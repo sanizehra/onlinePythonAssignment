{
 "cells": [
  {
   "cell_type": "code",
   "execution_count": 1,
   "metadata": {},
   "outputs": [
    {
     "ename": "SyntaxError",
     "evalue": "invalid syntax (<ipython-input-1-dfa81046c046>, line 2)",
     "output_type": "error",
     "traceback": [
      "\u001b[1;36m  File \u001b[1;32m\"<ipython-input-1-dfa81046c046>\"\u001b[1;36m, line \u001b[1;32m2\u001b[0m\n\u001b[1;33m    def __init__(self,name,model,color,price,cache no. ):\u001b[0m\n\u001b[1;37m                                                    ^\u001b[0m\n\u001b[1;31mSyntaxError\u001b[0m\u001b[1;31m:\u001b[0m invalid syntax\n"
     ]
    }
   ],
   "source": [
    "Object-oriented programming (OOP) refers to a computrer language\n",
    "in which programmers define the data type of a data structure, and also the\n",
    "types of functions that can be applied to the data structure."
   ]
  },
  {
   "cell_type": "code",
   "execution_count": 4,
   "metadata": {},
   "outputs": [
    {
     "name": "stdout",
     "output_type": "stream",
     "text": [
      "\n",
      "Car Name : suzuki alto\n",
      "\n",
      "Car Model : 2011\n",
      "\n",
      "Car Color : balck\n",
      "\n",
      "Car cache_no : ****\n",
      "\n",
      "Car Price : Rs.500000\n"
     ]
    }
   ],
   "source": [
    "class car():\n",
    "    def __init__(self,name,model,color,cache_no,price):\n",
    "        self.name = name\n",
    "        self.model = model\n",
    "        self.color = color\n",
    "        self.cache_no = cache_no\n",
    "        self.price =  price\n",
    "        \n",
    "cars = car('suzuki alto','2011','balck','****','Rs.500000')\n",
    "print('\\nCar Name :',cars.name)\n",
    "print('\\nCar Model :',cars.model)\n",
    "print('\\nCar Color :',cars.color)\n",
    "print('\\nCar cache_no :',cars.cache_no)\n",
    "print('\\nCar Price :',cars.price)"
   ]
  },
  {
   "cell_type": "code",
   "execution_count": null,
   "metadata": {},
   "outputs": [],
   "source": [
    "The benefits of OOP are mentioned below :\n",
    "\n",
    "1.Multi featured: Oop have multiple features\n",
    "2.Simplicity: OOP provides clear modular structure(real world objects)\n",
    "for programs, so the complexity is reduced and the program structure is very clear.\n",
    "3.Modularity: In oop each object forms a separate entity whose internal workings \n",
    "are decoupled from other parts of the system;\n",
    "4.Modifiability: It is easy to make minor changes in the data representation \n",
    "or the procedures in an OO program. Changes inside a class do not affect any other part of a program, since the only public interface that the external world has to a class is through the use of methods.\n",
    "5.Extensibility: Adding new features or responding to changing operating environments\n",
    "can be solved by introducing a few new objects and modifying some existing ones.\n",
    "6.Maintainability: Objects can be maintained separately, making locating and fixing problems \n",
    "easier.\n",
    "7.Reusability: Objects can be reused in different program.\n",
    "So that the cost of development lowers and also enables faster development."
   ]
  },
  {
   "cell_type": "code",
   "execution_count": null,
   "metadata": {},
   "outputs": [],
   "source": [
    "A function is a piece of code that is called by name. It can be passed data to operate on (i.e. the parameters) and can optionally return data (the return value). \n",
    "All data that is passed to a function is explicitly passed.\n",
    "\n",
    "A method is a piece of code that is called by a name that is associated \n",
    "with an object. In most respects it is identical to a function except for two \n",
    "key differences:\n",
    "\n",
    "1)A method is implicitly passed the object on which it was called.\n",
    "2)A method is able to operate on data that is contained within the \n",
    "class (remembering that an object is an instance of a class - the class is\n",
    "       the definition, the object is an instance of that data)."
   ]
  },
  {
   "cell_type": "code",
   "execution_count": null,
   "metadata": {},
   "outputs": [],
   "source": [
    "Class :-\n",
    "Classes(OOP) In Object-Oriented Programming, a Class Is a Blueprint For Creating Objects(a Paricular Data Structure), Providing Intial Values For State (Member Variables Or Attributes), And Implemnetations Of Behavior (Member Functions Or Methods).\n",
    "The User-Defined Objects Are Created Using The Class Keyword.\n",
    "\n",
    "Object:-\n",
    "An Object, In Object-Oriented Programming(OOP),Is An Abstract Data Type Created By A Developer. \n",
    "It Can Include Multiple Properties And methods And May Even Contain Other Objects.In Most Programming Language Objects Are Defined As Classes.\n",
    "\n",
    "Attributes :-\n",
    "An Attribute Is A Specification That Defines A Property Of An Object, Elemnet, Or File. It May Also Refer To Or Set The Specific Value For A Given Instance Of Such.For Clarity. Attributes Should More Correctly Be Considered Metadata.\n",
    "\n",
    "Behavior :-\n",
    "A Class Behavior Determines How An Instance Of That Class Operates; \n",
    "For Example, How It Will \"React\" If Asked To Do Something By Another CLass Or Object Or if Its Internal State Changes. Behavior Is The Only Way Objects Can Do Anything Done TO Them."
   ]
  }
 ],
 "metadata": {
  "kernelspec": {
   "display_name": "Python 3",
   "language": "python",
   "name": "python3"
  },
  "language_info": {
   "codemirror_mode": {
    "name": "ipython",
    "version": 3
   },
   "file_extension": ".py",
   "mimetype": "text/x-python",
   "name": "python",
   "nbconvert_exporter": "python",
   "pygments_lexer": "ipython3",
   "version": "3.7.4"
  }
 },
 "nbformat": 4,
 "nbformat_minor": 2
}
