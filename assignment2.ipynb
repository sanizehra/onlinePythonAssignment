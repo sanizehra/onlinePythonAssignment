{
 "cells": [
  {
   "cell_type": "code",
   "execution_count": 1,
   "metadata": {},
   "outputs": [
    {
     "name": "stdout",
     "output_type": "stream",
     "text": [
      "Enter your percentage %90\n",
      "A+\n"
     ]
    }
   ],
   "source": [
    "#ASSIGNMENT 1\n",
    "#TO MAKE A MARKSHEET FOR USER TO INPUT THE PERCENTAGE AND CHECK THE GRADE\n",
    "\n",
    "per =int(input(\"Enter your percentage %\"));\n",
    "if per >= 80 :\n",
    "    print(\"A+\")\n",
    "elif per >=70 and per < 80:\n",
    "    print(\"A\")\n",
    "elif per >=60 and per < 70:\n",
    "    print(\"B\")\n",
    "elif per >=0 and per < 60:\n",
    "    print (\"FAIL\")\n",
    "else :\n",
    "    print(\"inappropriate %\")"
   ]
  },
  {
   "cell_type": "code",
   "execution_count": null,
   "metadata": {},
   "outputs": [],
   "source": []
  }
 ],
 "metadata": {
  "kernelspec": {
   "display_name": "Python 3",
   "language": "python",
   "name": "python3"
  },
  "language_info": {
   "codemirror_mode": {
    "name": "ipython",
    "version": 3
   },
   "file_extension": ".py",
   "mimetype": "text/x-python",
   "name": "python",
   "nbconvert_exporter": "python",
   "pygments_lexer": "ipython3",
   "version": "3.7.4"
  }
 },
 "nbformat": 4,
 "nbformat_minor": 2
}
